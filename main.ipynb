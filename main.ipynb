{
  "cells": [
    {
      "cell_type": "code",
      "execution_count": null,
      "metadata": {
        "id": "Eml51i6NYr6H"
      },
      "outputs": [],
      "source": [
        "!pip install japanize-matplotlib\n",
        "\n",
        "import pandas as pd\n",
        "import seaborn as sns\n",
        "import matplotlib.pyplot as plt\n",
        "import japanize_matplotlib\n",
        "\n",
        "def plot_patient_data(csv_file):\n",
        "    df = pd.read_csv(csv_file, encoding='shift_jis')\n",
        "    sns.set(\n",
        "        font='IPAexGothic',\n",
        "        palette='Set2',\n",
        "        context='paper'\n",
        "    )\n",
        "\n",
        "    variable_col = df.columns[0]\n",
        "    terms_col = df.columns[1]\n",
        "    patient_col = df.columns[2]\n",
        "    session_col = df.columns[3]\n",
        "\n",
        "    num_patients = df[patient_col].nunique()\n",
        "    plt.figure(figsize=(10, 4 * num_patients))\n",
        "\n",
        "    overall_max = df[variable_col].max()\n",
        "    y_max = overall_max * 1.1\n",
        "    for i, (patient, data) in enumerate(df.groupby(patient_col)):\n",
        "        plot_patient_data_subplot(i, num_patients, patient, data, session_col, variable_col, terms_col, y_max)\n",
        "\n",
        "    plt.subplots_adjust(hspace=4)\n",
        "    plt.tight_layout()\n",
        "    plt.show()\n",
        "\n",
        "def plot_patient_data_subplot(i, num_patients, patient, data, session_col, variable_col, terms_col, y_max):\n",
        "    plt.subplot(num_patients, 1, i + 1)\n",
        "    sns.lineplot(data=data, x=session_col, y=variable_col, hue=terms_col, marker='o', linewidth=2.5, markersize=8)\n",
        "\n",
        "    term_a_max = data[data[terms_col] == 'A'][session_col].max()\n",
        "    plt.axvline(x=term_a_max + 0.5, color='red', linestyle='--', label='Intervention Start', linewidth=2)\n",
        "\n",
        "    plt.title(patient, fontsize=20, fontweight='bold', color='navy')\n",
        "    plt.ylim(0, y_max)\n",
        "\n",
        "    plt.xlabel(session_col, fontsize=16)\n",
        "    plt.ylabel(variable_col, fontsize=16)\n",
        "    plt.tick_params(axis='both', labelsize=14)\n",
        "\n",
        "    plt.grid(color='grey', linestyle='--', linewidth=0.7, alpha=0.7)\n",
        "    plt.legend(title=terms_col, fontsize=14, title_fontsize=16)\n",
        "\n",
        "# 以下の「hoge.csv」の場所にて、CSVファイルの名前を書き換えてください。\n",
        "plot_patient_data('hoge.csv')"
      ]
    }
  ],
  "metadata": {
    "colab": {
      "provenance": []
    },
    "kernelspec": {
      "display_name": "Python 3",
      "name": "python3"
    },
    "language_info": {
      "name": "python"
    }
  },
  "nbformat": 4,
  "nbformat_minor": 0
}
